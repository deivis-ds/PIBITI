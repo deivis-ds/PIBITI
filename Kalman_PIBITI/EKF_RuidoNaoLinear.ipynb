{
 "cells": [
  {
   "cell_type": "code",
   "execution_count": 199,
   "metadata": {},
   "outputs": [],
   "source": [
    "import numpy as np\n",
    "from scipy import stats\n",
    "from filterpy.kalman import KalmanFilter\n",
    "from filterpy.common import Q_discrete_white_noise\n",
    "%matplotlib inline\n",
    "# %matplotlib notebook (zoom)\n",
    "import matplotlib.dates as mdates\n",
    "import matplotlib.pyplot as plt\n",
    "from scipy.stats import norm\n",
    "from sympy import Symbol, symbols, Matrix, sin, cos\n",
    "from sympy import init_printing\n",
    "from sympy.utilities.codegen import codegen\n",
    "init_printing(use_latex=True)"
   ]
  },
  {
   "cell_type": "markdown",
   "metadata": {},
   "source": [
    "# Extended Kalman Filter Implementation for Constant Turn Rate and Acceleration (CTRA) Vehicle Model in Python"
   ]
  },
  {
   "cell_type": "markdown",
   "metadata": {},
   "source": [
    "**Kalman Filter** works with linear systems.\n",
    "\n",
    "**Extended Kalman Filter (EKF)** uses a more general nonlinear set of equations:\n",
    "\n",
    "$\\boldsymbol{x}_{k} = f(\\boldsymbol{x}_{k-1}, \\boldsymbol{u}_{k-1}) + \\boldsymbol{w}_{k-1}$\n",
    "\n",
    "$\\boldsymbol{y}_{k} = h(\\boldsymbol{x}_{k}) + \\boldsymbol{v}_{k}$\n",
    "\n",
    "Where $w_k$ and $v_k$ are the process and observation noises which are both assumed to be zero mean Multivariate Gaussian noises with covariance matrix $Q$ and $R$ respectively.\n",
    "\n",
    "The function $f$ can be used to compute the predicted state from the previous estimate and similarly the function $h$ can be used to compute the predicted measurement from the predicted state. However, $f$ and $h$ cannot be applied to the covariance directly. Instead a matrix of partial derivatives (the **Jacobian matrix**) is computed.\n",
    "\n",
    "At each time step, the Jacobian is evaluated with current predicted states. This process essentially linearizes the non-linear function around the current estimate.\n",
    "\n",
    "[Wikipedia](http://en.wikipedia.org/wiki/Extended_Kalman_filter): In the Extended Kalman filter, the state transition and observation models need not be linear functions of the state but may instead be differentiable functions."
   ]
  },
  {
   "cell_type": "markdown",
   "metadata": {},
   "source": [
    "![Extended Kalman Filter Step](ExtendedKalmanFilterAlgorithm.png)"
   ]
  },
  {
   "cell_type": "markdown",
   "metadata": {},
   "source": [
    "## ISO 8855 Reference Frames"
   ]
  },
  {
   "cell_type": "markdown",
   "metadata": {},
   "source": [
    "**World frame** is the earth-fixed system (or ENU: East North Up).\n",
    "\n",
    "![](ENU.png)\n",
    "\n",
    "**Body frame** is attached to the vehicle and rotates with it in all three axes with the yaw, pitch and roll of the vehicle.\n",
    "* The X axis is parallel to the vehicle’s heading and is in the forward direction of the vehicle.\n",
    "* The Y axis is perpendicular to the X axis and is in the left direction of the vehicle.\n",
    "* The Z axis is perpendicular to the X and Y axes and is in the up direction of the vehicle.\n",
    "\n",
    "![](RPY_angles_of_cars.png)\n",
    "\n",
    "\n",
    "**Yaw (Heading)**\n",
    "* This angle is between the forward direction of the vehicle, projected in to the horizontal plane, and the East. \n",
    "* Positive rotation is from the East and counter-clockwise when looking from above, about the up direction axis of the vehicle.\n",
    "\n",
    "**Pitch** \n",
    "* This angle is obtained with a rotation about the lateral direction axis of the vehicle. \n",
    "* Positive rotation is from horizontal and clockwise when looking in the same direction of the lateral axis.\n",
    "\n",
    "**Roll**\n",
    "* This angle is obtained with a rotation about the forward direction axis of the vehicle. \n",
    "* Positive rotation is from horizontal and clockwise when looking from behind.\n"
   ]
  },
  {
   "cell_type": "markdown",
   "metadata": {},
   "source": [
    "## State Vector - Constant Turn Rate and Acceleration Vehicle Model (CTRA)"
   ]
  },
  {
   "cell_type": "markdown",
   "metadata": {},
   "source": [
    "**Situation covered**: You have a velocity sensor, which measures the vehicle speed ($v$) in forwarding direction, and a yaw rate sensor ($\\dot \\psi$) which both have to fused with the position ($x$ & $y$) from a GPS sensor."
   ]
  },
  {
   "cell_type": "markdown",
   "metadata": {},
   "source": [
    "![](CTRV-Model.png)\n",
    "\n",
    "$$ x_k= \\begin{bmatrix} x \\\\ y \\\\ \\psi \\\\ v \\\\ \\dot\\psi \\\\ a\\end{bmatrix} = \\begin{bmatrix} \\text{Position X} \\\\ \\text{Position Y} \\\\ \\text{Heading} \\\\ \\text{Velocity} \\\\ \\text{Yaw Rate} \\\\ \\text{Longitudinal Acceleration} \\end{bmatrix} $$\n"
   ]
  },
  {
   "cell_type": "markdown",
   "metadata": {},
   "source": [
    "## System Dynamics"
   ]
  },
  {
   "cell_type": "code",
   "execution_count": 200,
   "metadata": {},
   "outputs": [],
   "source": [
    "numstates=3 # States"
   ]
  },
  {
   "cell_type": "markdown",
   "metadata": {},
   "source": [
    "All symbolic calculations are made with [Sympy](http://nbviewer.ipython.org/github/jrjohansson/scientific-python-lectures/blob/master/Lecture-5-Sympy.ipynb). Thanks!"
   ]
  },
  {
   "cell_type": "code",
   "execution_count": 201,
   "metadata": {},
   "outputs": [],
   "source": [
    "vs, psis, dpsis, dts, xs, ys, lats, lons, axs = symbols('v \\psi \\dot\\psi T x y lat lon a')"
   ]
  },
  {
   "cell_type": "markdown",
   "metadata": {},
   "source": [
    "### State vector"
   ]
  },
  {
   "cell_type": "code",
   "execution_count": 202,
   "metadata": {},
   "outputs": [
    {
     "data": {
      "text/latex": [
       "$\\displaystyle \\left[\\begin{matrix}x\\\\y\\\\\\psi\\end{matrix}\\right]$"
      ],
      "text/plain": [
       "⎡ x  ⎤\n",
       "⎢    ⎥\n",
       "⎢ y  ⎥\n",
       "⎢    ⎥\n",
       "⎣\\psi⎦"
      ]
     },
     "execution_count": 202,
     "metadata": {},
     "output_type": "execute_result"
    }
   ],
   "source": [
    "state = Matrix([xs,ys,psis])\n",
    "state"
   ]
  },
  {
   "cell_type": "markdown",
   "metadata": {},
   "source": [
    "### Control input"
   ]
  },
  {
   "cell_type": "code",
   "execution_count": 203,
   "metadata": {},
   "outputs": [
    {
     "data": {
      "text/latex": [
       "$\\displaystyle \\left[\\begin{matrix}v\\\\\\dot\\psi\\end{matrix}\\right]$"
      ],
      "text/plain": [
       "⎡   v    ⎤\n",
       "⎢        ⎥\n",
       "⎣\\dot\\psi⎦"
      ]
     },
     "execution_count": 203,
     "metadata": {},
     "output_type": "execute_result"
    }
   ],
   "source": [
    "u = Matrix([vs,dpsis]) # utilizei yawrate ao invés do \"steering angle\"\n",
    "u"
   ]
  },
  {
   "cell_type": "markdown",
   "metadata": {},
   "source": [
    "### Process vector function f"
   ]
  },
  {
   "cell_type": "markdown",
   "metadata": {},
   "source": [
    "These formulas calculate how the state is evolving from one to the next time step"
   ]
  },
  {
   "cell_type": "code",
   "execution_count": 204,
   "metadata": {},
   "outputs": [
    {
     "data": {
      "text/latex": [
       "$\\displaystyle \\left[\\begin{matrix}x + \\frac{v \\left(- \\sin{\\left(\\psi \\right)} + \\sin{\\left(T \\dot\\psi + \\psi \\right)}\\right)}{\\dot\\psi}\\\\y + \\frac{v \\left(\\cos{\\left(\\psi \\right)} - \\cos{\\left(T \\dot\\psi + \\psi \\right)}\\right)}{\\dot\\psi}\\\\T \\dot\\psi + \\psi\\end{matrix}\\right]$"
      ],
      "text/plain": [
       "⎡    v⋅(-sin(\\psi) + sin(T⋅\\dot\\psi + \\psi))⎤\n",
       "⎢x + ───────────────────────────────────────⎥\n",
       "⎢                    \\dot\\psi               ⎥\n",
       "⎢                                           ⎥\n",
       "⎢    v⋅(cos(\\psi) - cos(T⋅\\dot\\psi + \\psi)) ⎥\n",
       "⎢y + ────────────────────────────────────── ⎥\n",
       "⎢                   \\dot\\psi                ⎥\n",
       "⎢                                           ⎥\n",
       "⎣             T⋅\\dot\\psi + \\psi             ⎦"
      ]
     },
     "execution_count": 204,
     "metadata": {},
     "output_type": "execute_result"
    }
   ],
   "source": [
    "fs = Matrix([[xs+(vs/dpsis)*(sin(psis+dpsis*dts)-sin(psis))],\n",
    "             [ys+(vs/dpsis)*(-cos(psis+dpsis*dts)+cos(psis))],\n",
    "             [psis+dpsis*dts]])\n",
    "fs"
   ]
  },
  {
   "cell_type": "markdown",
   "metadata": {},
   "source": [
    "### Calculate the Jacobian matrix $J_F$ with respect to the state vector"
   ]
  },
  {
   "cell_type": "markdown",
   "metadata": {},
   "source": [
    "Matrix $J_F$ is the Jacobian of the Process function $f$ with respect to the state. Function $f$ is used to compute the predicted state vector from the previous estimated state vector."
   ]
  },
  {
   "cell_type": "code",
   "execution_count": 205,
   "metadata": {},
   "outputs": [
    {
     "data": {
      "text/latex": [
       "$\\displaystyle \\left[\\begin{matrix}1 & 0 & \\frac{v \\left(- \\cos{\\left(\\psi \\right)} + \\cos{\\left(T \\dot\\psi + \\psi \\right)}\\right)}{\\dot\\psi}\\\\0 & 1 & \\frac{v \\left(- \\sin{\\left(\\psi \\right)} + \\sin{\\left(T \\dot\\psi + \\psi \\right)}\\right)}{\\dot\\psi}\\\\0 & 0 & 1\\end{matrix}\\right]$"
      ],
      "text/plain": [
       "⎡      v⋅(-cos(\\psi) + cos(T⋅\\dot\\psi + \\psi))⎤\n",
       "⎢1  0  ───────────────────────────────────────⎥\n",
       "⎢                      \\dot\\psi               ⎥\n",
       "⎢                                             ⎥\n",
       "⎢      v⋅(-sin(\\psi) + sin(T⋅\\dot\\psi + \\psi))⎥\n",
       "⎢0  1  ───────────────────────────────────────⎥\n",
       "⎢                      \\dot\\psi               ⎥\n",
       "⎢                                             ⎥\n",
       "⎣0  0                     1                   ⎦"
      ]
     },
     "execution_count": 205,
     "metadata": {},
     "output_type": "execute_result"
    }
   ],
   "source": [
    "fs.jacobian(state)"
   ]
  },
  {
   "cell_type": "markdown",
   "metadata": {},
   "source": [
    "It has to be computed on every filter step because it consists of state variables!\n",
    "\n",
    "To Sympy Team: A `.to_python` and `.to_c` and `.to_matlab` whould be nice to generate code, like it already works with `print latex()`."
   ]
  },
  {
   "cell_type": "markdown",
   "metadata": {},
   "source": [
    "## Initial Uncertainty $P_0$"
   ]
  },
  {
   "cell_type": "markdown",
   "metadata": {},
   "source": [
    "Initialized with $0$ means you are pretty sure where the vehicle starts"
   ]
  },
  {
   "cell_type": "code",
   "execution_count": 206,
   "metadata": {},
   "outputs": [
    {
     "name": "stdout",
     "output_type": "stream",
     "text": [
      "[[1000.    0.    0.]\n",
      " [   0. 1000.    0.]\n",
      " [   0.    0. 1000.]] (3, 3)\n"
     ]
    }
   ],
   "source": [
    "P = np.diag([1000.0, 1000.0, 1000.0])\n",
    "print(P, P.shape)"
   ]
  },
  {
   "cell_type": "markdown",
   "metadata": {},
   "source": [
    "## Process Noise Covariance Matrix Q"
   ]
  },
  {
   "cell_type": "markdown",
   "metadata": {},
   "source": [
    "\"*The state uncertainty model models the disturbances which excite the linear system. Conceptually, it estimates how bad things can get when the system is run open loop for a given period of time.*\" - Kelly, A. (1994). A 3D state space formulation of a navigation Kalman filter for autonomous vehicles, (May). Retrieved from http://oai.dtic.mil/oai/oai?verb=getRecord&metadataPrefix=html&identifier=ADA282853"
   ]
  },
  {
   "cell_type": "code",
   "execution_count": 207,
   "metadata": {},
   "outputs": [],
   "source": [
    "dt = 1.0/5.0 # Sample Rate of the Measurements is 5 Hz (NAV-POSLLH)\n",
    "dtGPS = 1.0/5.0 # Sample Rate of GPS is 5 Hz (mesma frequência)"
   ]
  },
  {
   "cell_type": "code",
   "execution_count": 208,
   "metadata": {},
   "outputs": [
    {
     "name": "stdout",
     "output_type": "stream",
     "text": [
      "[[0.030976 0.       0.      ]\n",
      " [0.       0.030976 0.      ]\n",
      " [0.       0.       0.0004  ]] (3, 3)\n"
     ]
    }
   ],
   "source": [
    "# Standard deviations\n",
    "sGPS     = 0.5*8.8*dt**2  # assume 8.8m/s2 as maximum acceleration, forcing the vehicle\n",
    "#sGPS     = 0.5*2.3*dt**2  # max(ax) = 2.3\n",
    "\n",
    "sCourse  = 0.1*dt # assume 0.1rad/s as maximum turn rate for the vehicle\n",
    "#sCourse  = 0.1*dt # DP(x4)\n",
    "\n",
    "sVelocity= 8.8*dt  # assume 8.8m/s2 as maximum acceleration, forcing the vehicle\n",
    "#sVelocity= 2.3*dt  # max(ax)\n",
    "\n",
    "sYawrate = 1.0*dt # assume 1.0rad/s2 as the maximum turn rate acceleration for the vehicle\n",
    "#sYawrate = 1.0*dt #\n",
    "\n",
    "sAccel = 0.5 # assume 0.5m/s2\n",
    "#sAccel = 0.5 #\n",
    "\n",
    "Q = np.diag([sGPS**2, sGPS**2, sCourse**2])\n",
    "\n",
    "print(Q, Q.shape)"
   ]
  },
  {
   "cell_type": "code",
   "execution_count": 209,
   "metadata": {},
   "outputs": [
    {
     "data": {
      "image/png": "[encoded data removed]",
      "text/plain": [
       "<Figure size 360x360 with 2 Axes>"
      ]
     },
     "metadata": {
      "needs_background": "light"
     },
     "output_type": "display_data"
    }
   ],
   "source": [
    "fig = plt.figure(figsize=(5, 5))\n",
    "im = plt.imshow(Q, interpolation=\"none\", cmap=plt.get_cmap('binary'))\n",
    "plt.title('Process Noise Covariance Matrix $Q$')\n",
    "ylocs, ylabels = plt.yticks()\n",
    "# set the locations of the yticks\n",
    "plt.yticks(np.arange(9))\n",
    "# set the locations and labels of the yticks\n",
    "plt.yticks(np.arange(8),('$x$', '$y$', '$\\psi$', '$v$', '$\\dot \\psi$', '$a$'), fontsize=22)\n",
    "\n",
    "xlocs, xlabels = plt.xticks()\n",
    "# set the locations of the yticks\n",
    "plt.xticks(np.arange(9))\n",
    "# set the locations and labels of the yticks\n",
    "plt.xticks(np.arange(8),('$x$', '$y$', '$\\psi$', '$v$', '$\\dot \\psi$', '$a$'), fontsize=22)\n",
    "\n",
    "plt.xlim([-0.5,5.5])\n",
    "plt.ylim([5.5, -0.5])\n",
    "\n",
    "from mpl_toolkits.axes_grid1 import make_axes_locatable\n",
    "divider = make_axes_locatable(plt.gca())\n",
    "cax = divider.append_axes(\"right\", \"5%\", pad=\"3%\")\n",
    "plt.colorbar(im, cax=cax);"
   ]
  },
  {
   "cell_type": "markdown",
   "metadata": {},
   "source": [
    "## Measurement System"
   ]
  },
  {
   "cell_type": "markdown",
   "metadata": {},
   "source": [
    "## Measurement Function h"
   ]
  },
  {
   "cell_type": "markdown",
   "metadata": {},
   "source": [
    "Matrix $J_H$ is the Jacobian of the Measurement function $h$ with respect to the state. Function $h$ can be used to compute the predicted measurement from the predicted state.\n",
    "\n",
    "If a GPS measurement is available, the following function maps the state to the measurement."
   ]
  },
  {
   "cell_type": "code",
   "execution_count": 210,
   "metadata": {},
   "outputs": [
    {
     "data": {
      "text/latex": [
       "$\\displaystyle \\left[\\begin{matrix}x\\\\v\\\\y\\end{matrix}\\right]$"
      ],
      "text/plain": [
       "⎡x⎤\n",
       "⎢ ⎥\n",
       "⎢v⎥\n",
       "⎢ ⎥\n",
       "⎣y⎦"
      ]
     },
     "execution_count": 210,
     "metadata": {},
     "output_type": "execute_result"
    }
   ],
   "source": [
    "hs = Matrix([[xs],\n",
    "             [vs],\n",
    "             [ys]])\n",
    "hs"
   ]
  },
  {
   "cell_type": "code",
   "execution_count": 211,
   "metadata": {},
   "outputs": [
    {
     "data": {
      "text/latex": [
       "$\\displaystyle \\left[\\begin{matrix}1 & 0 & 0\\\\0 & 0 & 0\\\\0 & 1 & 0\\end{matrix}\\right]$"
      ],
      "text/plain": [
       "⎡1  0  0⎤\n",
       "⎢       ⎥\n",
       "⎢0  0  0⎥\n",
       "⎢       ⎥\n",
       "⎣0  1  0⎦"
      ]
     },
     "execution_count": 211,
     "metadata": {},
     "output_type": "execute_result"
    }
   ],
   "source": [
    "JHs=hs.jacobian(state)\n",
    "JHs"
   ]
  },
  {
   "cell_type": "markdown",
   "metadata": {},
   "source": [
    "If no GPS measurement is available, simply set the corresponding values in $J_h$ to zero."
   ]
  },
  {
   "cell_type": "markdown",
   "metadata": {},
   "source": [
    "## Measurement Noise Covariance $R$"
   ]
  },
  {
   "cell_type": "markdown",
   "metadata": {},
   "source": [
    "\"In practical use, the uncertainty estimates take on the significance of relative weights of state estimates and measurements. So it is not so much important that uncertainty is absolutely correct as it is that it be relatively consistent across all models\" - Kelly, A. (1994). A 3D state space formulation of a navigation Kalman filter for autonomous vehicles, (May). Retrieved from http://oai.dtic.mil/oai/oai?verb=getRecord&metadataPrefix=html&identifier=ADA282853"
   ]
  },
  {
   "cell_type": "code",
   "execution_count": 212,
   "metadata": {},
   "outputs": [
    {
     "name": "stdout",
     "output_type": "stream",
     "text": [
      "[[4.41   0.    ]\n",
      " [0.     0.0225]] (2, 2)\n"
     ]
    }
   ],
   "source": [
    "# Measurement Standard Deviations\n",
    "#msdGPS = 5.0 # Standard Deviation of GPS Measurement\n",
    "msdGPS = 5.0 # ?\n",
    "\n",
    "#msdSpeed = 3.0 # Standard Deviation of the speed measurement\n",
    "msdSpeed = 2.1 # DP(speed)\n",
    "\n",
    "#msdYawrate = 0.1 # Standard Deviation of the yawrate measurement\n",
    "msdYawrate = 0.15 # DP(yawrate)\n",
    "\n",
    "#msdAcc = 1.0 # Standard Deviation of the longitudinal Acceleration\n",
    "msdAcc = 1.0 # DP(ax)\n",
    "\n",
    "R = np.diag([msdSpeed**2, msdYawrate**2])\n",
    "\n",
    "print(R, R.shape)"
   ]
  },
  {
   "cell_type": "code",
   "execution_count": 213,
   "metadata": {},
   "outputs": [
    {
     "data": {
      "image/png": "[encoded data removed]",
      "text/plain": [
       "<Figure size 324x324 with 2 Axes>"
      ]
     },
     "metadata": {
      "needs_background": "light"
     },
     "output_type": "display_data"
    }
   ],
   "source": [
    "fig = plt.figure(figsize=(4.5, 4.5))\n",
    "im = plt.imshow(R, interpolation=\"none\", cmap=plt.get_cmap('binary'))\n",
    "plt.title('Measurement Noise Covariance Matrix $R$')\n",
    "ylocs, ylabels = plt.yticks()\n",
    "# set the locations of the yticks\n",
    "plt.yticks(np.arange(6))\n",
    "# set the locations and labels of the yticks\n",
    "plt.yticks(np.arange(5),('$x$', '$y$', '$v$', '$\\dot \\psi$', '$a$'), fontsize=22)\n",
    "\n",
    "xlocs, xlabels = plt.xticks()\n",
    "# set the locations of the yticks\n",
    "plt.xticks(np.arange(6))\n",
    "# set the locations and labels of the yticks\n",
    "plt.xticks(np.arange(5),('$x$', '$y$', '$v$', '$\\dot \\psi$', '$a$'), fontsize=22)\n",
    "\n",
    "plt.xlim([-0.5,4.5])\n",
    "plt.ylim([4.5, -0.5])\n",
    "\n",
    "from mpl_toolkits.axes_grid1 import make_axes_locatable\n",
    "divider = make_axes_locatable(plt.gca())\n",
    "cax = divider.append_axes(\"right\", \"5%\", pad=\"3%\")\n",
    "plt.colorbar(im, cax=cax);"
   ]
  },
  {
   "cell_type": "markdown",
   "metadata": {},
   "source": [
    "## Identity Matrix"
   ]
  },
  {
   "cell_type": "code",
   "execution_count": 214,
   "metadata": {},
   "outputs": [
    {
     "name": "stdout",
     "output_type": "stream",
     "text": [
      "[[1. 0. 0.]\n",
      " [0. 1. 0.]\n",
      " [0. 0. 1.]] (3, 3)\n"
     ]
    }
   ],
   "source": [
    "I = np.eye(numstates)\n",
    "print(I, I.shape)"
   ]
  },
  {
   "cell_type": "markdown",
   "metadata": {},
   "source": [
    "## Loading real measurements"
   ]
  },
  {
   "cell_type": "code",
   "execution_count": 215,
   "metadata": {},
   "outputs": [
    {
     "name": "stdout",
     "output_type": "stream",
     "text": [
      "Read '2021-01-02-001-Data.csv' successfully.\n"
     ]
    }
   ],
   "source": [
    "# Updated by Giovanni Santos\n",
    "# Necessary to avoid error: strptime() argument 0 must be str, not <class 'bytes'>\n",
    "#def convert_date(date_bytes):\n",
    "#    return mdates.strpdate2num('%y%m%d')(date_bytes.decode('ascii'))\n",
    "\n",
    "#def convert_time(date_bytes):\n",
    "#    return mdates.strpdate2num('%H%M%S%f')(date_bytes.decode('ascii'))\n",
    "\n",
    "\n",
    "#path = './../RaspberryPi-CarPC/TinkerDataLogger/DataLogs/2014/'\n",
    "datafile = '2021-01-02-001-Data.csv'\n",
    "\n",
    "time, \\\n",
    "ax, \\\n",
    "yawrate, \\\n",
    "speed, \\\n",
    "course, \\\n",
    "latitude, \\\n",
    "longitude, \\\n",
    "altitude, \\\n",
    "latitudeGT, \\\n",
    "longitudeGT, \\\n",
    "altitudeGT = np.loadtxt(datafile, delimiter=',', unpack=True, skiprows=1)\n",
    "\n",
    "print('Read \\'%s\\' successfully.' % datafile)"
   ]
  },
  {
   "cell_type": "markdown",
   "metadata": {},
   "source": [
    "## Measurement Units"
   ]
  },
  {
   "cell_type": "markdown",
   "metadata": {},
   "source": [
    "**Lat/Lon** in decimal degree (from GPS)\n",
    "**Speed** in km/h (from GPS)\n",
    "**Course** in decimal degree (from GPS)\n",
    "**Roll/Pitch/Yaw** in decimal degree (from IMU)\n",
    "**Roll-/Pitch-/Yawrate** in degrees/second (from IMU)\n",
    "**Accleration** in m/s² (from IMU)"
   ]
  },
  {
   "cell_type": "markdown",
   "metadata": {},
   "source": [
    "## Approx. Lat/Lon to Meters to check Location"
   ]
  },
  {
   "cell_type": "code",
   "execution_count": 216,
   "metadata": {},
   "outputs": [],
   "source": [
    "RadiusEarth = 6378388.0 # m\n",
    "arc= 2.0*np.pi*(RadiusEarth+altitude)/360.0 # m/°\n",
    "arcGT= 2.0*np.pi*(RadiusEarth+altitudeGT)/360.0 # m/°\n",
    "\n",
    "# Equirectangular projection (https://en.wikipedia.org/wiki/Equirectangular_projection)\n",
    "# x = r * cos(latitude)*(longitude_{K} - longitude_{K-1})\n",
    "# y = r * (latitude_{K} - latitude_{K-1})\n",
    "dx = arc * np.cos(latitude*np.pi/180.0) * np.hstack((0.0, np.diff(longitude))) # in m\n",
    "dy = arc * np.hstack((0.0, np.diff(latitude))) # in m\n",
    "dxGT = arc * np.cos(latitudeGT*np.pi/180.0) * np.hstack((0.0, np.diff(longitudeGT))) # in m\n",
    "dyGT = arc * np.hstack((0.0, np.diff(latitudeGT))) # in m\n",
    "\n",
    "mx = np.cumsum(dx)\n",
    "my = np.cumsum(dy)\n",
    "mxGT = np.cumsum(dxGT)\n",
    "myGT = np.cumsum(dyGT)\n",
    "\n",
    "ds = np.sqrt(dx**2+dy**2)\n",
    "\n",
    "GPS=(ds!=0.0).astype('bool') # GPS Trigger for Kalman Filter"
   ]
  },
  {
   "cell_type": "markdown",
   "metadata": {},
   "source": [
    "## Initial State"
   ]
  },
  {
   "cell_type": "code",
   "execution_count": 217,
   "metadata": {},
   "outputs": [
    {
     "name": "stdout",
     "output_type": "stream",
     "text": [
      "[[0.00000000e+00]\n",
      " [0.00000000e+00]\n",
      " [1.24865486e+00]\n",
      " [5.70705205e+00]\n",
      " [2.80054200e-03]\n",
      " [9.15310812e-01]] (6, 1)\n"
     ]
    },
    {
     "data": {
      "image/png": "[encoded data removed]",
      "text/latex": [
       "$\\displaystyle \\left( -0.055, \\  0.055, \\  -0.055, \\  0.055\\right)$"
      ],
      "text/plain": [
       "(-0.05500000000000001, 0.05500000000000001, -0.05500000000000001, 0.0550000000\n",
       "0000001)"
      ]
     },
     "execution_count": 217,
     "metadata": {},
     "output_type": "execute_result"
    },
    {
     "data": {
      "image/png": "[encoded data removed]",
      "text/plain": [
       "<Figure size 432x288 with 1 Axes>"
      ]
     },
     "metadata": {
      "needs_background": "light"
     },
     "output_type": "display_data"
    }
   ],
   "source": [
    "# Convert course from degrees to radians, yawrate from degrees/s to radians/s, and speed from km/h to m/s\n",
    "x = np.matrix([[mx[0], my[0], course[0], speed[0], yawrate[0], ax[0]]]).T\n",
    "print(x, x.shape)\n",
    "\n",
    "U=float(np.cos(x[2])*x[3])\n",
    "V=float(np.sin(x[2])*x[3])\n",
    "\n",
    "# quiver plots a 2D field of arrows. X, Y define the arrow locations, U, V define the arrow directions.\n",
    "plt.quiver(x[0], x[1], U, V)\n",
    "plt.scatter(float(x[0]), float(x[1]), s=100)\n",
    "plt.title('Initial Location')\n",
    "plt.axis('equal')"
   ]
  },
  {
   "cell_type": "markdown",
   "metadata": {},
   "source": [
    "### Put everything together as a measurement vector"
   ]
  },
  {
   "cell_type": "code",
   "execution_count": 218,
   "metadata": {},
   "outputs": [
    {
     "name": "stdout",
     "output_type": "stream",
     "text": [
      "(5, 1377)\n"
     ]
    }
   ],
   "source": [
    "measurements = np.vstack((mx, my, speed, yawrate, ax))\n",
    "# Lenth of the measurement\n",
    "m = measurements.shape[1]\n",
    "print(measurements.shape)"
   ]
  },
  {
   "cell_type": "code",
   "execution_count": 219,
   "metadata": {},
   "outputs": [],
   "source": [
    "# Preallocation for Plotting\n",
    "x0 = []\n",
    "x1 = []\n",
    "x2 = []\n",
    "x3 = []\n",
    "x4 = []\n",
    "x5 = []\n",
    "x6 = []\n",
    "Zx = []\n",
    "Zy = []\n",
    "Px = []\n",
    "Py = []\n",
    "Pdx= []\n",
    "Pdy= []\n",
    "Pddx=[]\n",
    "Pddy=[]\n",
    "Pdv =[]\n",
    "Kx = []\n",
    "Ky = []\n",
    "Kdx= []\n",
    "Kdy= []\n",
    "Kddx=[]\n",
    "Kdv= []\n",
    "dstate=[]"
   ]
  },
  {
   "cell_type": "markdown",
   "metadata": {},
   "source": [
    "# Extended Kalman Filter"
   ]
  },
  {
   "cell_type": "markdown",
   "metadata": {},
   "source": [
    "![Extended Kalman Filter Step](ExtendedKalmanFilterAlgorithm.png)"
   ]
  },
  {
   "cell_type": "markdown",
   "metadata": {},
   "source": [
    "$$x_k= \\begin{bmatrix} x \\\\ y \\\\ \\psi \\\\ v \\\\ \\dot\\psi \\\\ a \\end{bmatrix} = \\begin{bmatrix} \\text{Position X} \\\\ \\text{Position Y} \\\\ \\text{Heading} \\\\ \\text{Velocity} \\\\ \\text{Yaw Rate} \\\\ \\text{Acceleration} \\end{bmatrix} =  \\underbrace{\\begin{matrix}x[0] \\\\ x[1] \\\\ x[2] \\\\ x[3] \\\\ x[4] \\\\ x[5]  \\end{matrix}}_{\\textrm{Python Nomenclature}}$$"
   ]
  },
  {
   "cell_type": "code",
   "execution_count": 220,
   "metadata": {},
   "outputs": [
    {
     "ename": "ValueError",
     "evalue": "shapes (2,2) and (3,3) not aligned: 2 (dim 1) != 3 (dim 0)",
     "output_type": "error",
     "traceback": [
      "\u001b[1;31m---------------------------------------------------------------------------\u001b[0m",
      "\u001b[1;31mValueError\u001b[0m                                Traceback (most recent call last)",
      "\u001b[1;32m<ipython-input-220-3ebbba71dc4c>\u001b[0m in \u001b[0;36m<module>\u001b[1;34m\u001b[0m\n\u001b[0;32m     58\u001b[0m         \u001b[1;31m#                [0.0, 0.0, 0.0, 0.0, 0.0, 1.0]])\u001b[0m\u001b[1;33m\u001b[0m\u001b[1;33m\u001b[0m\u001b[1;33m\u001b[0m\u001b[0m\n\u001b[0;32m     59\u001b[0m \u001b[1;33m\u001b[0m\u001b[0m\n\u001b[1;32m---> 60\u001b[1;33m     \u001b[0mS\u001b[0m \u001b[1;33m=\u001b[0m \u001b[0mJH\u001b[0m\u001b[1;33m*\u001b[0m\u001b[0mP\u001b[0m\u001b[1;33m*\u001b[0m\u001b[0mJH\u001b[0m\u001b[1;33m.\u001b[0m\u001b[0mT\u001b[0m \u001b[1;33m+\u001b[0m \u001b[0mR\u001b[0m\u001b[1;33m\u001b[0m\u001b[1;33m\u001b[0m\u001b[0m\n\u001b[0m\u001b[0;32m     61\u001b[0m     \u001b[0mK\u001b[0m \u001b[1;33m=\u001b[0m \u001b[1;33m(\u001b[0m\u001b[0mP\u001b[0m\u001b[1;33m*\u001b[0m\u001b[0mJH\u001b[0m\u001b[1;33m.\u001b[0m\u001b[0mT\u001b[0m\u001b[1;33m)\u001b[0m \u001b[1;33m*\u001b[0m \u001b[0mnp\u001b[0m\u001b[1;33m.\u001b[0m\u001b[0mlinalg\u001b[0m\u001b[1;33m.\u001b[0m\u001b[0minv\u001b[0m\u001b[1;33m(\u001b[0m\u001b[0mS\u001b[0m\u001b[1;33m)\u001b[0m\u001b[1;33m\u001b[0m\u001b[1;33m\u001b[0m\u001b[0m\n\u001b[0;32m     62\u001b[0m \u001b[1;33m\u001b[0m\u001b[0m\n",
      "\u001b[1;32mc:\\users\\user\\appdata\\local\\programs\\python\\python39\\lib\\site-packages\\numpy\\matrixlib\\defmatrix.py\u001b[0m in \u001b[0;36m__mul__\u001b[1;34m(self, other)\u001b[0m\n\u001b[0;32m    216\u001b[0m         \u001b[1;32mif\u001b[0m \u001b[0misinstance\u001b[0m\u001b[1;33m(\u001b[0m\u001b[0mother\u001b[0m\u001b[1;33m,\u001b[0m \u001b[1;33m(\u001b[0m\u001b[0mN\u001b[0m\u001b[1;33m.\u001b[0m\u001b[0mndarray\u001b[0m\u001b[1;33m,\u001b[0m \u001b[0mlist\u001b[0m\u001b[1;33m,\u001b[0m \u001b[0mtuple\u001b[0m\u001b[1;33m)\u001b[0m\u001b[1;33m)\u001b[0m \u001b[1;33m:\u001b[0m\u001b[1;33m\u001b[0m\u001b[1;33m\u001b[0m\u001b[0m\n\u001b[0;32m    217\u001b[0m             \u001b[1;31m# This promotes 1-D vectors to row vectors\u001b[0m\u001b[1;33m\u001b[0m\u001b[1;33m\u001b[0m\u001b[1;33m\u001b[0m\u001b[0m\n\u001b[1;32m--> 218\u001b[1;33m             \u001b[1;32mreturn\u001b[0m \u001b[0mN\u001b[0m\u001b[1;33m.\u001b[0m\u001b[0mdot\u001b[0m\u001b[1;33m(\u001b[0m\u001b[0mself\u001b[0m\u001b[1;33m,\u001b[0m \u001b[0masmatrix\u001b[0m\u001b[1;33m(\u001b[0m\u001b[0mother\u001b[0m\u001b[1;33m)\u001b[0m\u001b[1;33m)\u001b[0m\u001b[1;33m\u001b[0m\u001b[1;33m\u001b[0m\u001b[0m\n\u001b[0m\u001b[0;32m    219\u001b[0m         \u001b[1;32mif\u001b[0m \u001b[0misscalar\u001b[0m\u001b[1;33m(\u001b[0m\u001b[0mother\u001b[0m\u001b[1;33m)\u001b[0m \u001b[1;32mor\u001b[0m \u001b[1;32mnot\u001b[0m \u001b[0mhasattr\u001b[0m\u001b[1;33m(\u001b[0m\u001b[0mother\u001b[0m\u001b[1;33m,\u001b[0m \u001b[1;34m'__rmul__'\u001b[0m\u001b[1;33m)\u001b[0m \u001b[1;33m:\u001b[0m\u001b[1;33m\u001b[0m\u001b[1;33m\u001b[0m\u001b[0m\n\u001b[0;32m    220\u001b[0m             \u001b[1;32mreturn\u001b[0m \u001b[0mN\u001b[0m\u001b[1;33m.\u001b[0m\u001b[0mdot\u001b[0m\u001b[1;33m(\u001b[0m\u001b[0mself\u001b[0m\u001b[1;33m,\u001b[0m \u001b[0mother\u001b[0m\u001b[1;33m)\u001b[0m\u001b[1;33m\u001b[0m\u001b[1;33m\u001b[0m\u001b[0m\n",
      "\u001b[1;32m<__array_function__ internals>\u001b[0m in \u001b[0;36mdot\u001b[1;34m(*args, **kwargs)\u001b[0m\n",
      "\u001b[1;31mValueError\u001b[0m: shapes (2,2) and (3,3) not aligned: 2 (dim 1) != 3 (dim 0)"
     ]
    }
   ],
   "source": [
    "for filterstep in range(m):\n",
    "\n",
    "    # Time Update (Prediction)\n",
    "    # ========================\n",
    "    # Project the state ahead\n",
    "    # see \"System Dynamics\"\n",
    "    if np.abs(yawrate[filterstep])<0.0001: # Driving straight\n",
    "        x[0] = x[0] + x[3]*dt * np.cos(x[2]) # Updating position x\n",
    "        x[1] = x[1] + x[3]*dt * np.sin(x[2]) # Updating position y\n",
    "        x[2] = x[2] # Updating heading\n",
    "        x[3] = x[3] + x[5]*dt # Updating velocity\n",
    "        x[4] = 0.0000001 # avoid numerical issues in Jacobians\n",
    "        x[5] = x[5] # Updating acceleration\n",
    "        dstate.append(0)\n",
    "    else: # otherwise\n",
    "        x[0] = x[0] + (x[3]/x[4]) * (np.sin(x[4]*dt+x[2]) - np.sin(x[2])) # Updating position x\n",
    "        x[1] = x[1] + (x[3]/x[4]) * (-np.cos(x[4]*dt+x[2])+ np.cos(x[2])) # Updating position y\n",
    "        x[2] = (x[2] + x[4]*dt + np.pi) % (2.0*np.pi) - np.pi # Updating heading\n",
    "        x[3] = x[3] + x[5]*dt # Updating velocity\n",
    "        x[4] = x[4] # Constant Turn Rate\n",
    "        x[5] = x[5] # Constant Acceleration\n",
    "        dstate.append(1)\n",
    "    \n",
    "    # Calculate the Jacobian of the process vector function f\n",
    "    # see \"Calculate the Jacobian matrix JF with respect to the state vector\"\n",
    "    a13 = float((x[3]/x[4]) * (np.cos(x[4]*dt+x[2]) - np.cos(x[2])))\n",
    "    #a14 = float((1.0/x[4]) * (np.sin(x[4]*dt+x[2]) - np.sin(x[2])))\n",
    "    #a15 = float((dt*x[3]/x[4])*np.cos(x[4]*dt+x[2]) - (x[3]/x[4]**2)*(np.sin(x[4]*dt+x[2]) - np.sin(x[2])))\n",
    "    a23 = float((x[3]/x[4]) * (np.sin(x[4]*dt+x[2]) - np.sin(x[2])))\n",
    "    #a24 = float((1.0/x[4]) * (-np.cos(x[4]*dt+x[2]) + np.cos(x[2])))\n",
    "    #a25 = float((dt*x[3]/x[4])*np.sin(x[4]*dt+x[2]) - (x[3]/x[4]**2)*(-np.cos(x[4]*dt+x[2]) + np.cos(x[2])))\n",
    "    \n",
    "    JF = np.matrix([[1.0, 0.0, a13],\n",
    "                    [0.0, 1.0, a23],\n",
    "                    [0.0, 0.0, 1.0]])\n",
    "    \n",
    "    # Project the error covariance ahead\n",
    "    P = JF*P*JF.T + Q # !!! ruído não linear J_*Q*J_.T\n",
    "    \n",
    "    # Measurement Update (Correction)\n",
    "    # ===============================\n",
    "    # Measurement Function\n",
    "    hx = np.matrix([[float(x[0])],\n",
    "                    [float(x[1])],\n",
    "                    [float(x[3])],\n",
    "                    [float(x[4])],\n",
    "                    [float(x[5])]])\n",
    "\n",
    "    #if GPS[filterstep]: # with 10Hz, every 5th step\n",
    "    # VERIFIQUE !!!\n",
    "    JH = np.matrix([[1.0, 0.0],\n",
    "                    [0.0, 1.0]])\n",
    "    #else: # every other step\n",
    "        #JH = np.matrix([[0.0, 0.0, 0.0, 0.0, 0.0, 0.0],\n",
    "        #                [0.0, 0.0, 0.0, 0.0, 0.0, 0.0],\n",
    "        #                [0.0, 0.0, 0.0, 1.0, 0.0, 0.0],\n",
    "        #                [0.0, 0.0, 0.0, 0.0, 1.0, 0.0],\n",
    "        #                [0.0, 0.0, 0.0, 0.0, 0.0, 1.0]])        \n",
    "    \n",
    "    S = JH*P*JH.T + R\n",
    "    K = (P*JH.T) * np.linalg.inv(S)\n",
    "\n",
    "    # Update the estimate via\n",
    "    Z = measurements[:,filterstep].reshape(JH.shape[0],1)\n",
    "    y = Z - (hx)                         # Innovation or Residual\n",
    "    x = x + (K*y)\n",
    "\n",
    "    # Update the error covariance\n",
    "    P = (I - (K*JH))*P\n",
    "\n",
    "\n",
    "    # Save states for Plotting\n",
    "    x0.append(float(x[0])) # pos x ***\n",
    "    x1.append(float(x[1])) # pos y ***\n",
    "    \n",
    "    x2.append(float(x[2])) # heading\n",
    "    x3.append(float(x[3])) # velocity\n",
    "    x4.append(float(x[4])) # yaw-rate\n",
    "    x5.append(float(x[5])) # acceleration\n",
    "    \n",
    "    Zx.append(float(Z[0])) # pos x (GPS) ***\n",
    "    Zy.append(float(Z[1])) # pos y (GPS) ***\n",
    "    \n",
    "    # cov:\n",
    "    Px.append(float(P[0,0]))\n",
    "    Py.append(float(P[1,1]))\n",
    "    Pdx.append(float(P[2,2]))\n",
    "    Pdy.append(float(P[3,3]))\n",
    "    Pddx.append(float(P[4,4]))\n",
    "    Pdv.append(float(P[5,5]))\n",
    "    # kalman gain\n",
    "    Kx.append(float(K[0,0]))\n",
    "    Ky.append(float(K[1,0]))\n",
    "    Kdx.append(float(K[2,0]))\n",
    "    Kdy.append(float(K[3,0]))\n",
    "    Kddx.append(float(K[4,0]))\n",
    "    Kdv.append(float(K[5,0]))"
   ]
  },
  {
   "cell_type": "markdown",
   "metadata": {},
   "source": [
    "## Plots"
   ]
  },
  {
   "cell_type": "markdown",
   "metadata": {},
   "source": [
    "### Uncertainties"
   ]
  },
  {
   "cell_type": "code",
   "execution_count": null,
   "metadata": {},
   "outputs": [],
   "source": [
    "fig = plt.figure(figsize=(16,9))\n",
    "plt.semilogy(range(m),Px, label='$x$')\n",
    "plt.step(range(m),Py, label='$y$')\n",
    "plt.step(range(m),Pdx, label='$\\psi$')\n",
    "plt.step(range(m),Pdy, label='$v$')\n",
    "plt.step(range(m),Pddx, label='$\\dot \\psi$')\n",
    "\n",
    "plt.xlabel('Filter Step')\n",
    "plt.ylabel('')\n",
    "plt.title('Uncertainty (Elements from Matrix $P$)')\n",
    "plt.legend(loc='best',prop={'size':22})"
   ]
  },
  {
   "cell_type": "code",
   "execution_count": null,
   "metadata": {},
   "outputs": [],
   "source": [
    "fig = plt.figure(figsize=(6, 6))\n",
    "im = plt.imshow(P, interpolation=\"none\", cmap=plt.get_cmap('binary'))\n",
    "plt.title('Covariance Matrix $P$ (after %i Filter Steps)' % (m))\n",
    "ylocs, ylabels = plt.yticks()\n",
    "# set the locations of the yticks\n",
    "plt.yticks(np.arange(6))\n",
    "# set the locations and labels of the yticks\n",
    "plt.yticks(np.arange(5),('$x$', '$y$', '$\\psi$', '$v$', '$\\dot \\psi$'), fontsize=22)\n",
    "\n",
    "xlocs, xlabels = plt.xticks()\n",
    "# set the locations of the yticks\n",
    "plt.xticks(np.arange(6))\n",
    "# set the locations and labels of the yticks\n",
    "plt.xticks(np.arange(5),('$x$', '$y$', '$\\psi$', '$v$', '$\\dot \\psi$'), fontsize=22)\n",
    "\n",
    "plt.xlim([-0.5,4.5])\n",
    "plt.ylim([4.5, -0.5])\n",
    "\n",
    "from mpl_toolkits.axes_grid1 import make_axes_locatable\n",
    "divider = make_axes_locatable(plt.gca())\n",
    "cax = divider.append_axes(\"right\", \"5%\", pad=\"3%\")\n",
    "plt.colorbar(im, cax=cax)\n",
    "\n",
    "\n",
    "plt.tight_layout()"
   ]
  },
  {
   "cell_type": "markdown",
   "metadata": {},
   "source": [
    "### Kalman Gains"
   ]
  },
  {
   "cell_type": "code",
   "execution_count": null,
   "metadata": {},
   "outputs": [],
   "source": [
    "fig = plt.figure(figsize=(16,9))\n",
    "plt.step(range(len(measurements[0])),Kx, label='$x$')\n",
    "plt.step(range(len(measurements[0])),Ky, label='$y$')\n",
    "plt.step(range(len(measurements[0])),Kdx, label='$\\psi$')\n",
    "plt.step(range(len(measurements[0])),Kdy, label='$v$')\n",
    "plt.step(range(len(measurements[0])),Kddx, label='$\\dot \\psi$')\n",
    "\n",
    "\n",
    "plt.xlabel('Filter Step')\n",
    "plt.ylabel('')\n",
    "plt.title('Kalman Gain (the lower, the more the measurement fullfill the prediction)')\n",
    "plt.legend(prop={'size':18})\n",
    "plt.ylim([-0.25,0.25]);"
   ]
  },
  {
   "cell_type": "markdown",
   "metadata": {},
   "source": [
    "## State Vector"
   ]
  },
  {
   "cell_type": "code",
   "execution_count": null,
   "metadata": {},
   "outputs": [],
   "source": [
    "fig = plt.figure(figsize=(16,16))\n",
    "plt.subplot(511)\n",
    "plt.step(range(len(measurements[0])),x0-mx[0], label='$x$')\n",
    "plt.step(range(len(measurements[0])),x1-my[0], label='$y$')\n",
    "\n",
    "plt.title('Extended Kalman Filter State Estimates (State Vector $x$)')\n",
    "plt.legend(loc='best')\n",
    "plt.ylabel('Position (relative to start) [m]')\n",
    "\n",
    "plt.subplot(512)\n",
    "plt.step(range(len(measurements[0])),x2, label='$\\psi$')\n",
    "plt.step(range(len(measurements[0])),(course+np.pi)%(2.0*np.pi) - np.pi, label='$\\psi$ (from GPS as reference)')\n",
    "plt.ylabel('Course')\n",
    "plt.legend(loc='best')\n",
    "           \n",
    "plt.subplot(513)\n",
    "plt.step(range(len(measurements[0])),x3, label='$v$')\n",
    "plt.step(range(len(measurements[0])),speed, label='$v$ (from GPS as reference)', alpha=0.6)\n",
    "plt.ylabel('Velocity')\n",
    "plt.ylim([0, 30])\n",
    "plt.legend(loc='best')\n",
    "\n",
    "plt.subplot(514)\n",
    "plt.step(range(len(measurements[0])),x4, label='$\\dot \\psi$')\n",
    "plt.step(range(len(measurements[0])),yawrate, label='$\\dot \\psi$ (from IMU as reference)', alpha=0.6)\n",
    "plt.ylabel('Yaw Rate')\n",
    "plt.ylim([-0.6, 0.6])\n",
    "plt.legend(loc='best')\n",
    "\n",
    "plt.subplot(515)\n",
    "plt.step(range(len(measurements[0])),x5, label='$a$')\n",
    "plt.step(range(len(measurements[0])),ax, label='$a$ (from IMU as reference)', alpha=0.6)\n",
    "plt.ylabel('Acceleration')\n",
    "#plt.ylim([-0.6, 0.6])\n",
    "plt.legend(loc='best')\n",
    "plt.xlabel('Filter Step')\n",
    "\n",
    "plt.savefig('Extended-Kalman-Filter-CTRA-State-Estimates.png', dpi=72, transparent=True, bbox_inches='tight')"
   ]
  },
  {
   "cell_type": "markdown",
   "metadata": {},
   "source": [
    "## Position x/y"
   ]
  },
  {
   "cell_type": "code",
   "execution_count": null,
   "metadata": {
    "scrolled": false
   },
   "outputs": [],
   "source": [
    "fig = plt.figure(figsize=(16,9))\n",
    "\n",
    "# EKF State\n",
    "plt.quiver(x0,x1,np.cos(x2), np.sin(x2), color='#94C600', units='xy', width=0.05, scale=0.5)\n",
    "plt.plot(x0,x1, label='EKF Position', c='k', lw=5)\n",
    "\n",
    "# Measurements\n",
    "#plt.scatter(mx[::5],my[::5], s=50, label='GPS Measurements', marker='+')\n",
    "plt.scatter(mx,my, s=50, label='GPS Measurements', marker='+')\n",
    "#cbar=plt.colorbar(ticks=np.arange(20))\n",
    "#cbar.ax.set_ylabel(u'EPE', rotation=270)\n",
    "#cbar.ax.set_xlabel(u'm')\n",
    "\n",
    "# Ground Truth\n",
    "#plt.scatter(mxGT[::5],myGT[::5], s=50, label='Ground Truth', marker='o')\n",
    "plt.scatter(mxGT,myGT, s=50, label='Ground Truth', marker='o')\n",
    "\n",
    "# Start/Goal\n",
    "plt.scatter(x0[0],x1[0], s=60, label='Start', c='g')\n",
    "plt.scatter(x0[-1],x1[-1], s=60, label='Goal', c='r')\n",
    "\n",
    "plt.xlabel('X [m]')\n",
    "plt.ylabel('Y [m]')\n",
    "plt.title('Position')\n",
    "plt.legend(loc='best')\n",
    "plt.axis('equal')\n",
    "#plt.tight_layout()\n",
    "\n",
    "#plt.savefig('Extended-Kalman-Filter-CTRA-Position.png', dpi=72, transparent=True, bbox_inches='tight')"
   ]
  },
  {
   "cell_type": "markdown",
   "metadata": {},
   "source": [
    "### Detailed View"
   ]
  },
  {
   "cell_type": "code",
   "execution_count": null,
   "metadata": {},
   "outputs": [],
   "source": [
    "fig = plt.figure(figsize=(12,9))\n",
    "\n",
    "plt.subplot(221)\n",
    "# EKF State\n",
    "plt.quiver(x0,x1,np.cos(x2), np.sin(x2), color='#94C600', units='xy', width=0.05, scale=0.5)\n",
    "plt.plot(x0,x1, label='EKF Position', c='g', lw=5)\n",
    "\n",
    "# Measurements\n",
    "plt.scatter(mx,my, s=50, label='GPS Measurements', alpha=0.5, marker='+')\n",
    "\n",
    "#cbar=plt.colorbar(ticks=np.arange(20))\n",
    "#cbar.ax.set_ylabel(u'EPE', rotation=270)\n",
    "#cbar.ax.set_xlabel(u'm')\n",
    "\n",
    "# Ground Truth\n",
    "plt.scatter(mxGT,myGT, s=50, label='Ground Truth', alpha=0.5,marker='o')\n",
    "\n",
    "plt.xlabel('X [m]')\n",
    "plt.xlim(90, 160)\n",
    "plt.ylabel('Y [m]')\n",
    "plt.ylim(430, 580)\n",
    "plt.title('Position')\n",
    "plt.legend(loc='best')\n",
    "\n",
    "\n",
    "plt.subplot(222)\n",
    "\n",
    "# EKF State\n",
    "#plt.quiver(x0,x1,np.cos(x2), np.sin(x2), color='#94C600', units='xy', width=0.05, scale=0.5)\n",
    "plt.plot(x0,x1, label='EKF Position', c='g', lw=5)\n",
    "\n",
    "# Measurements\n",
    "plt.scatter(mx,my, s=50, label='GPS Measurements', alpha=0.5, marker='+')\n",
    "#cbar=plt.colorbar(ticks=np.arange(20))\n",
    "#cbar.ax.set_ylabel(u'EPE', rotation=270)\n",
    "#cbar.ax.set_xlabel(u'm')\n",
    "\n",
    "# Ground Truth\n",
    "plt.scatter(mxGT,myGT, s=50, label='Ground Truth', alpha=0.5,marker='o')\n",
    "\n",
    "plt.xlabel('X [m]')\n",
    "plt.xlim(-80, -30)\n",
    "plt.ylabel('Y [m]')\n",
    "plt.ylim(260, 370)\n",
    "plt.title('Position')\n",
    "plt.legend(loc='best')"
   ]
  },
  {
   "cell_type": "markdown",
   "metadata": {},
   "source": [
    "# Gráficos de Erros"
   ]
  },
  {
   "cell_type": "code",
   "execution_count": null,
   "metadata": {},
   "outputs": [],
   "source": [
    "# Erro na medida (Longitude)\n",
    "ErrxGPS = abs(Zx-mxGT)\n",
    "stats.describe(ErrxGPS)"
   ]
  },
  {
   "cell_type": "code",
   "execution_count": null,
   "metadata": {},
   "outputs": [],
   "source": [
    "# Erro na estimativa (Longitude)\n",
    "ErrxEKF = abs(x0-mxGT) \n",
    "stats.describe(ErrxEKF)"
   ]
  },
  {
   "cell_type": "code",
   "execution_count": null,
   "metadata": {},
   "outputs": [],
   "source": [
    "fig = plt.figure(figsize=(16,9))\n",
    "plt.step(range(len(measurements[0])),ErrxGPS, label='$xGPS$')\n",
    "plt.step(range(len(measurements[0])),ErrxEKF, label='$xEKF$')\n",
    "#plt.title('')\n",
    "plt.legend(prop={'size':18})"
   ]
  },
  {
   "cell_type": "code",
   "execution_count": null,
   "metadata": {},
   "outputs": [],
   "source": [
    "# Erro na medida (Latitude)\n",
    "ErryGPS = abs(Zy-myGT)\n",
    "stats.describe(ErryGPS)"
   ]
  },
  {
   "cell_type": "code",
   "execution_count": null,
   "metadata": {
    "scrolled": false
   },
   "outputs": [],
   "source": [
    "# Erro na estimativa (Latitude)\n",
    "ErryEKF = abs(x1-myGT)\n",
    "stats.describe(ErryEKF)"
   ]
  },
  {
   "cell_type": "code",
   "execution_count": null,
   "metadata": {},
   "outputs": [],
   "source": [
    "fig = plt.figure(figsize=(16,9))\n",
    "plt.step(range(len(measurements[0])),ErryGPS, label='$yGPS$')\n",
    "plt.step(range(len(measurements[0])),ErryEKF, label='$yEKF$')\n",
    "#plt.title('')\n",
    "plt.legend(prop={'size':18})"
   ]
  },
  {
   "cell_type": "markdown",
   "metadata": {},
   "source": [
    "# Acknowledgement"
   ]
  },
  {
   "cell_type": "markdown",
   "metadata": {},
   "source": [
    "This work is based on https://github.com/balzer82/Kalman/blob/master/Extended-Kalman-Filter-CTRA.ipynb"
   ]
  }
 ],
 "metadata": {
  "kernelspec": {
   "display_name": "Python 3",
   "language": "python",
   "name": "python3"
  },
  "language_info": {
   "codemirror_mode": {
    "name": "ipython",
    "version": 3
   },
   "file_extension": ".py",
   "mimetype": "text/x-python",
   "name": "python",
   "nbconvert_exporter": "python",
   "pygments_lexer": "ipython3",
   "version": "3.9.0"
  }
 },
 "nbformat": 4,
 "nbformat_minor": 4
}
